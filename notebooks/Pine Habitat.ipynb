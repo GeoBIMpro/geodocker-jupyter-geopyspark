{
 "cells": [
  {
   "cell_type": "markdown",
   "metadata": {},
   "source": [
    "# This tutorial will show you how to find the suitable habitat range for Bristlecone pine using GeoPySpark\n",
    "\n",
    "This tutorial will focus on GeoPySpark functionality, but you can find more resources and tutorials about GeoNotebooks [here](https://github.com/OpenGeoscience/geonotebook/tree/master/notebooks).\n",
    "\n",
    "### Suitability analysis is a classic GIS case study that enables the combination of factors to return a desired result \n",
    "This tutorial sets the premise that you are interested in two factors for locating Bristlecone pines:\n",
    "- Located between 3,000 and 4,000 meters\n",
    "- Located on a south facing slope\n",
    "     "
   ]
  },
  {
   "cell_type": "code",
   "execution_count": null,
   "metadata": {},
   "outputs": [],
   "source": [
    "import geopyspark as gps\n",
    "from pyspark import SparkContext"
   ]
  },
  {
   "cell_type": "markdown",
   "metadata": {},
   "source": [
    "You will need to set up a spark context. To learn more about what that means take a look [here](https://spark.apache.org/docs/latest/programming-guide.html#initializing-spark)"
   ]
  },
  {
   "cell_type": "code",
   "execution_count": null,
   "metadata": {},
   "outputs": [],
   "source": [
    "conf=gps.geopyspark_conf(appName=\"BristleConePine\")\n",
    "conf.set('spark.ui.enabled', True)\n",
    "sc = SparkContext(conf = conf)"
   ]
  },
  {
   "cell_type": "markdown",
   "metadata": {},
   "source": [
    "Retrieving an elevation .tif from AWS S3:"
   ]
  },
  {
   "cell_type": "code",
   "execution_count": null,
   "metadata": {},
   "outputs": [],
   "source": [
    "elev_rdd = gps.geotiff.get(\n",
    "    layer_type='spatial', \n",
    "    uri='s3://geopyspark-demo/elevation/ca-elevation.tif')"
   ]
  },
  {
   "cell_type": "markdown",
   "metadata": {},
   "source": [
    "## Tile, reproject, pyramid:"
   ]
  },
  {
   "cell_type": "code",
   "execution_count": null,
   "metadata": {},
   "outputs": [],
   "source": [
    "elev_tiled_rdd = elev_rdd.tile_to_layout(\n",
    "    layout=gps.GlobalLayout(), \n",
    "    target_crs=3857)\n",
    "elev_pyramided_rdd = elev_tiled_rdd.pyramid().cache()"
   ]
  },
  {
   "cell_type": "markdown",
   "metadata": {},
   "source": [
    "Imports for creating a TMS server capable of serving layers with custom colormaps"
   ]
  },
  {
   "cell_type": "code",
   "execution_count": null,
   "metadata": {},
   "outputs": [],
   "source": [
    "from geopyspark.geotrellis.color import get_colors_from_matplotlib\n",
    "elev_histo        = elev_pyramided_rdd.get_histogram()\n",
    "elev_colors       = get_colors_from_matplotlib('viridis', 100)\n",
    "elev_color_map    = gps.ColorMap.from_histogram(elev_histo, elev_colors)"
   ]
  },
  {
   "cell_type": "code",
   "execution_count": null,
   "metadata": {},
   "outputs": [],
   "source": [
    "elev_tms = gps.TMS.build(elev_pyramided_rdd, elev_color_map)\n",
    "elev_tms.bind('0.0.0.0')"
   ]
  },
  {
   "cell_type": "markdown",
   "metadata": {},
   "source": [
    "Display the tiles in an embedded [Folium](https://python-visualization.github.io/folium/) map:"
   ]
  },
  {
   "cell_type": "code",
   "execution_count": null,
   "metadata": {},
   "outputs": [],
   "source": [
    "import folium\n",
    "\n",
    "map_center = [37.75, -118.85]\n",
    "zoom = 7\n",
    "\n",
    "m = folium.Map(location=map_center, zoom_start=zoom)\n",
    "folium.TileLayer(tiles=\"Stamen Terrain\", overlay=False).add_to(m)\n",
    "folium.TileLayer(tiles=elev_tms.url_pattern, attr=\"GeoPySpark\", overlay=True).add_to(m)\n",
    "m"
   ]
  },
  {
   "cell_type": "markdown",
   "metadata": {},
   "source": [
    "Classify the elevation such that values of interest (between 3,000 and 4,000 meters) return a value of 1."
   ]
  },
  {
   "cell_type": "code",
   "execution_count": null,
   "metadata": {},
   "outputs": [],
   "source": [
    "# use: elev_reprojected_rdd\n",
    "elev_reclass_pre = elev_tiled_rdd.reclassify({1000:2, 2000:2, 3000:2, 4000:1, 5000:2}, int)\n",
    "elev_reclass_rdd = elev_reclass_pre.reclassify({1:1}, int)\n",
    "elev_reclass_pyramid_rdd = elev_reclass_rdd.pyramid()"
   ]
  },
  {
   "cell_type": "code",
   "execution_count": null,
   "metadata": {},
   "outputs": [],
   "source": [
    "elev_reclass_histo = elev_reclass_pyramid_rdd.get_histogram()"
   ]
  },
  {
   "cell_type": "code",
   "execution_count": null,
   "metadata": {},
   "outputs": [],
   "source": [
    "#elev_reclass_color_map = ColorMap.from_histogram(sc, elev_reclass_histo, get_breaks(sc, 'Viridis', num_colors=100))\n",
    "elev_reclass_color_map = gps.ColorMap.from_colors(\n",
    "    breaks =[1], \n",
    "    color_list = [0xff000080])"
   ]
  },
  {
   "cell_type": "code",
   "execution_count": null,
   "metadata": {},
   "outputs": [],
   "source": [
    "elev_reclass_tms = gps.TMS.build(elev_reclass_pyramid_rdd, elev_reclass_color_map)\n",
    "elev_reclass_tms.bind('0.0.0.0')"
   ]
  },
  {
   "cell_type": "code",
   "execution_count": null,
   "metadata": {},
   "outputs": [],
   "source": [
    "m2 = folium.Map(location=map_center, zoom_start=zoom)\n",
    "folium.TileLayer(tiles=\"Stamen Terrain\", overlay=False).add_to(m2)\n",
    "folium.TileLayer(tiles=elev_tms.url_pattern, attr='GeoPySpark', name=\"Elevation\", overlay=True).add_to(m2)\n",
    "folium.TileLayer(tiles=elev_reclass_tms.url_pattern, attr='GeoPySpark', name=\"High Elevation Areas\", overlay=True).add_to(m2)\n",
    "folium.LayerControl().add_to(m2)\n",
    "m2"
   ]
  },
  {
   "cell_type": "markdown",
   "metadata": {},
   "source": [
    "Focal operation: aspect. To find south facing slopes"
   ]
  },
  {
   "cell_type": "code",
   "execution_count": null,
   "metadata": {},
   "outputs": [],
   "source": [
    "# square_neighborhood = Square(extent=1)\n",
    "aspect_rdd = elev_tiled_rdd.focal(\n",
    "    gps.Operation.ASPECT, \n",
    "    gps.Neighborhood.SQUARE, 1)"
   ]
  },
  {
   "cell_type": "code",
   "execution_count": null,
   "metadata": {},
   "outputs": [],
   "source": [
    "aspect_pyramid_rdd  = aspect_rdd.pyramid()\n",
    "aspect_histo        = aspect_pyramid_rdd.get_histogram()\n",
    "aspect_color_map    = gps.ColorMap.from_histogram(aspect_histo, get_colors_from_matplotlib('viridis', num_colors=256))"
   ]
  },
  {
   "cell_type": "code",
   "execution_count": null,
   "metadata": {},
   "outputs": [],
   "source": [
    "aspect_tms = gps.TMS.build(aspect_pyramid_rdd, aspect_color_map)\n",
    "aspect_tms.bind('0.0.0.0')"
   ]
  },
  {
   "cell_type": "code",
   "execution_count": null,
   "metadata": {},
   "outputs": [],
   "source": [
    "m3 = folium.Map(tiles='Stamen Terrain', location=map_center, zoom_start=zoom)\n",
    "folium.TileLayer(tiles=aspect_tms.url_pattern, attr='GeoPySpark', name=\"High Elevation Areas\", overlay=True).add_to(m3)\n",
    "m3"
   ]
  },
  {
   "cell_type": "code",
   "execution_count": null,
   "metadata": {},
   "outputs": [],
   "source": [
    "aspect_tms.unbind()"
   ]
  },
  {
   "cell_type": "markdown",
   "metadata": {},
   "source": [
    "Reclassify values such that values between 120 and 240 degrees (south) have a value of 1"
   ]
  },
  {
   "cell_type": "code",
   "execution_count": null,
   "metadata": {},
   "outputs": [],
   "source": [
    "aspect_reclass_pre  = aspect_rdd.reclassify({120:2, 240:1, 360: 2}, int)\n",
    "aspect_reclass      = aspect_reclass_pre.reclassify({1:1}, int)"
   ]
  },
  {
   "cell_type": "code",
   "execution_count": null,
   "metadata": {},
   "outputs": [],
   "source": [
    "aspect_reclass_pyramid_rdd = aspect_reclass.pyramid()\n",
    "aspect_reclass_histo       = aspect_reclass_pyramid_rdd.get_histogram()\n",
    "aspect_reclass_color_map   = gps.ColorMap.from_histogram(aspect_reclass_histo, get_colors_from_matplotlib('viridis', num_colors=256))"
   ]
  },
  {
   "cell_type": "code",
   "execution_count": null,
   "metadata": {},
   "outputs": [],
   "source": [
    "aspect_reclass_tms = gps.TMS.build(aspect_reclass_pyramid_rdd, aspect_reclass_color_map)\n",
    "aspect_reclass_tms.bind('0.0.0.0')"
   ]
  },
  {
   "cell_type": "code",
   "execution_count": null,
   "metadata": {},
   "outputs": [],
   "source": [
    "m4 = folium.Map(tiles='Stamen Terrain', location=map_center, zoom_start=zoom)\n",
    "folium.TileLayer(tiles=aspect_reclass_tms.url_pattern, attr='GeoPySpark', name=\"High Elevation Areas\", overlay=True).add_to(m4)\n",
    "m4"
   ]
  },
  {
   "cell_type": "code",
   "execution_count": null,
   "metadata": {},
   "outputs": [],
   "source": [
    "aspect_reclass_tms.unbind()"
   ]
  },
  {
   "cell_type": "markdown",
   "metadata": {},
   "source": [
    "Now add the values togehter to find the suitable range:"
   ]
  },
  {
   "cell_type": "code",
   "execution_count": null,
   "metadata": {},
   "outputs": [],
   "source": [
    "added = elev_reclass_pyramid_rdd + aspect_reclass_pyramid_rdd\n",
    "added_histo = added.get_histogram()\n",
    "added_color_map = gps.ColorMap.from_histogram(added_histo, get_colors_from_matplotlib('viridis', num_colors=256))"
   ]
  },
  {
   "cell_type": "code",
   "execution_count": null,
   "metadata": {},
   "outputs": [],
   "source": [
    "added_tms = gps.TMS.build(added, added_color_map)\n",
    "added_tms.bind('0.0.0.0')"
   ]
  },
  {
   "cell_type": "code",
   "execution_count": null,
   "metadata": {},
   "outputs": [],
   "source": [
    "m5 = folium.Map(tiles='Stamen Terrain', location=map_center, zoom_start=zoom)\n",
    "folium.TileLayer(tiles=added_tms.url_pattern, attr='GeoPySpark', name=\"High Elevation Areas\", overlay=True).add_to(m5)\n",
    "m5"
   ]
  },
  {
   "cell_type": "code",
   "execution_count": null,
   "metadata": {},
   "outputs": [],
   "source": [
    "import matplotlib.pyplot as plt\n",
    "%matplotlib inline"
   ]
  },
  {
   "cell_type": "code",
   "execution_count": null,
   "metadata": {
    "scrolled": true
   },
   "outputs": [],
   "source": [
    "v = elev_tiled_rdd.lookup(342,787)\n",
    "plt.imshow(v[0].cells[0])"
   ]
  }
 ],
 "metadata": {
  "kernelspec": {
   "display_name": "GeoPySpark",
   "language": "python",
   "name": "gps"
  },
  "language_info": {
   "codemirror_mode": {
    "name": "ipython",
    "version": 3
   },
   "file_extension": ".py",
   "mimetype": "text/x-python",
   "name": "python",
   "nbconvert_exporter": "python",
   "pygments_lexer": "ipython3",
   "version": "3.4.6"
  }
 },
 "nbformat": 4,
 "nbformat_minor": 2
}
