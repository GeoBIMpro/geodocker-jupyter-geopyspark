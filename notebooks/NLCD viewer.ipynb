{
 "cells": [
  {
   "cell_type": "code",
   "execution_count": null,
   "metadata": {},
   "outputs": [],
   "source": [
    "from functools import partial\n",
    "import geopyspark as gps\n",
    "import numpy as np\n",
    "import fiona\n",
    "import json\n",
    "import pyproj\n",
    "\n",
    "from pyspark import SparkContext\n",
    "from colortools import Color\n",
    "\n",
    "from shapely.geometry import mapping, shape\n",
    "from shapely.ops import transform\n",
    "\n",
    "from folium import Map, TileLayer, GeoJson"
   ]
  },
  {
   "cell_type": "code",
   "execution_count": null,
   "metadata": {},
   "outputs": [],
   "source": [
    "conf = gps.geopyspark_conf(master=\"local[*]\", appName=\"NLCD Viewer\")\n",
    "sc = SparkContext(conf=conf)"
   ]
  },
  {
   "cell_type": "code",
   "execution_count": null,
   "metadata": {},
   "outputs": [],
   "source": [
    "catalog_uri = \"s3://azavea-datahub/catalog\"\n",
    "layer_name = \"nlcd-2011-epsg3857\""
   ]
  },
  {
   "cell_type": "markdown",
   "metadata": {},
   "source": [
    "## Viewing NLCD"
   ]
  },
  {
   "cell_type": "code",
   "execution_count": null,
   "metadata": {},
   "outputs": [],
   "source": [
    "nlcd_cmap = gps.ColorMap.nlcd_colormap()\n",
    "nlcd_tms_server = gps.TMS.build((catalog_uri, layer_name), display=nlcd_cmap)\n",
    "nlcd_tms_server.bind('0.0.0.0')\n",
    "nlcd_tms_server.url_pattern"
   ]
  },
  {
   "cell_type": "code",
   "execution_count": null,
   "metadata": {},
   "outputs": [],
   "source": [
    "m = Map(tiles='Stamen Terrain', location=[37.1, -95.7], zoom_start=4)\n",
    "TileLayer(tiles=nlcd_tms_server.url_pattern, attr='GeoPySpark Tiles').add_to(m)\n",
    "m"
   ]
  },
  {
   "cell_type": "markdown",
   "metadata": {},
   "source": [
    "## Viewing reclassified tiles\n",
    "\n",
    "This example shows how to do custom, on-the-fly display from an existing catalog using a callback to a Python rendering function.  This method is much slower than using color maps.  Please be patient during map display/zooming."
   ]
  },
  {
   "cell_type": "code",
   "execution_count": null,
   "metadata": {},
   "outputs": [],
   "source": [
    "import struct\n",
    "from PIL import Image\n",
    "\n",
    "def from_color_get_component(i):\n",
    "    def fn(x):\n",
    "        split = struct.Struct(\">I\").pack\n",
    "        r,g,b,a = split(x & 0xffffffff)\n",
    "        return np.array([r,g,b,a], dtype='uint8')[i]\n",
    "    return fn\n",
    "\n",
    "def render_tile(tile):\n",
    "    rr = np.vectorize(from_color_get_component(0))(tile)\n",
    "    gg = np.vectorize(from_color_get_component(1))(tile)\n",
    "    bb = np.vectorize(from_color_get_component(2))(tile)\n",
    "    aa = np.vectorize(from_color_get_component(3))(tile)\n",
    "    return Image.fromarray(np.dstack([rr, gg, bb, aa]), mode='RGBA')"
   ]
  },
  {
   "cell_type": "code",
   "execution_count": null,
   "metadata": {},
   "outputs": [],
   "source": [
    "from PIL import Image\n",
    "import struct\n",
    "\n",
    "def render_cultivated(tile):\n",
    "    # NLCD codes in the 80's are Planted/Cultivated\n",
    "    # See https://www.mrlc.gov/nlcd11_leg.php\n",
    "    colorize = np.vectorize(lambda x: 0x7110b2aa if ((80 <= x) & (x < 90)) else 0x00000000)\n",
    "    return render_tile(colorize(tile[0][0]))"
   ]
  },
  {
   "cell_type": "code",
   "execution_count": null,
   "metadata": {},
   "outputs": [],
   "source": [
    "custom_nlcd_tms_server = gps.TMS.build((catalog_uri, layer_name), display=render_cultivated)\n",
    "custom_nlcd_tms_server.bind('0.0.0.0')\n",
    "custom_nlcd_tms_server.url_pattern"
   ]
  },
  {
   "cell_type": "code",
   "execution_count": null,
   "metadata": {},
   "outputs": [],
   "source": [
    "m = Map(tiles='Stamen Terrain', location=[37.1, -95.7], zoom_start=4)\n",
    "TileLayer(tiles=custom_nlcd_tms_server.url_pattern, attr='GeoPySpark Tiles').add_to(m)\n",
    "m"
   ]
  },
  {
   "cell_type": "markdown",
   "metadata": {},
   "source": [
    "## Chattanooga geometry"
   ]
  },
  {
   "cell_type": "code",
   "execution_count": null,
   "metadata": {},
   "outputs": [],
   "source": [
    "!curl -o /tmp/mask.json https://s3.amazonaws.com/chattademo/chatta_mask.json"
   ]
  },
  {
   "cell_type": "code",
   "execution_count": null,
   "metadata": {},
   "outputs": [],
   "source": [
    "txt = open('/tmp/mask.json').read()\n",
    "js = json.loads(txt)\n",
    "geom = shape(js)\n",
    "center = geom.centroid\n",
    "chatta_center = [center.y, center.x] # Location in lat/long"
   ]
  },
  {
   "cell_type": "code",
   "execution_count": null,
   "metadata": {},
   "outputs": [],
   "source": [
    "GeoJson('/tmp/mask.json', name='Chattanooga').add_to(m)"
   ]
  },
  {
   "cell_type": "code",
   "execution_count": null,
   "metadata": {},
   "outputs": [],
   "source": [
    "m.location = chatta_center\n",
    "m.zoom_start = 8\n",
    "m"
   ]
  },
  {
   "cell_type": "markdown",
   "metadata": {},
   "source": [
    "## Fetching an RDD of NLCD masked to Chattanooga"
   ]
  },
  {
   "cell_type": "code",
   "execution_count": null,
   "metadata": {},
   "outputs": [],
   "source": [
    "project = partial(\n",
    "    pyproj.transform,\n",
    "    pyproj.Proj(init='epsg:4326'),\n",
    "    pyproj.Proj(init='epsg:3857'))\n",
    "\n",
    "chatta_poly = transform(project, geom)"
   ]
  },
  {
   "cell_type": "code",
   "execution_count": null,
   "metadata": {},
   "outputs": [],
   "source": [
    "query_rdd = gps.query(catalog_uri,\n",
    "                      layer_name,\n",
    "                      12,\n",
    "                      query_geom=chatta_poly)"
   ]
  },
  {
   "cell_type": "code",
   "execution_count": null,
   "metadata": {},
   "outputs": [],
   "source": [
    "masked = query_rdd.mask([chatta_poly])\n",
    "masked_tms_server = gps.TMS.build(masked.pyramid(), display=nlcd_cmap)\n",
    "masked_tms_server.bind('0.0.0.0')"
   ]
  },
  {
   "cell_type": "code",
   "execution_count": null,
   "metadata": {},
   "outputs": [],
   "source": [
    "chatta_map = Map(tiles='Stamen Terrain', location=chatta_center, zoom_start=8)\n",
    "TileLayer(tiles=masked_tms_server.url_pattern, attr='GeoPySpark Tiles').add_to(chatta_map)\n",
    "GeoJson('/tmp/mask.json', name='Chattanooga').add_to(chatta_map)\n",
    "chatta_map"
   ]
  },
  {
   "cell_type": "markdown",
   "metadata": {},
   "source": [
    "## Reclassifying an RDD"
   ]
  },
  {
   "cell_type": "code",
   "execution_count": null,
   "metadata": {},
   "outputs": [],
   "source": [
    "reclassified = masked.reclassify({0: 1, 80: 2, 90: 1},\n",
    "                                 int,\n",
    "                                 gps.ClassificationStrategy.GREATER_THAN_OR_EQUAL_TO).repartition(150)"
   ]
  },
  {
   "cell_type": "code",
   "execution_count": null,
   "metadata": {},
   "outputs": [],
   "source": [
    "colors = gps.get_colors_from_colors(\n",
    "    [Color(\"#CA9146FF\"), Color(\"#00FFAA88\")])\n",
    "\n",
    "breaks = {\n",
    "    1: colors[0],\n",
    "    2: colors[1]\n",
    "}\n",
    "\n",
    "reclassified_cmap = gps.ColorMap.build(breaks)"
   ]
  },
  {
   "cell_type": "code",
   "execution_count": null,
   "metadata": {},
   "outputs": [],
   "source": [
    "reclassified_tms_server = gps.TMS.build(reclassified.pyramid(), display=reclassified_cmap)\n",
    "reclassified_tms_server.bind('0.0.0.0')"
   ]
  },
  {
   "cell_type": "code",
   "execution_count": null,
   "metadata": {},
   "outputs": [],
   "source": [
    "reclass_map = Map(tiles='Stamen Terrain', location=chatta_center, zoom_start=8)\n",
    "TileLayer(tiles=reclassified_tms_server.url_pattern, attr='GeoPySpark Tiles').add_to(reclass_map)\n",
    "GeoJson('/tmp/mask.json', name='Chattanooga').add_to(reclass_map)\n",
    "reclass_map"
   ]
  },
  {
   "cell_type": "markdown",
   "metadata": {},
   "source": [
    "## Saving the reclassified layer locally"
   ]
  },
  {
   "cell_type": "code",
   "execution_count": null,
   "metadata": {},
   "outputs": [],
   "source": [
    "local_catalog_uri = \"file:///tmp/catalog\"\n",
    "local_layer_name = \"cultivated-land-cover\""
   ]
  },
  {
   "cell_type": "code",
   "execution_count": null,
   "metadata": {},
   "outputs": [],
   "source": [
    "for layer in reclassified.pyramid().levels.values():\n",
    "    gps.write(local_catalog_uri, local_layer_name, layer)"
   ]
  },
  {
   "cell_type": "markdown",
   "metadata": {},
   "source": [
    "## Viewing the local Layer"
   ]
  },
  {
   "cell_type": "code",
   "execution_count": null,
   "metadata": {},
   "outputs": [],
   "source": [
    "nlcd_tms_server.unbind()\n",
    "custom_nlcd_tms_server.unbind()\n",
    "masked_tms_server.unbind()\n",
    "reclassified_tms_server.unbind()"
   ]
  },
  {
   "cell_type": "code",
   "execution_count": null,
   "metadata": {},
   "outputs": [],
   "source": [
    "local_tms_server = gps.TMS.build((local_catalog_uri, local_layer_name), reclassified_cmap)\n",
    "local_tms_server.bind('0.0.0.0')"
   ]
  },
  {
   "cell_type": "code",
   "execution_count": null,
   "metadata": {
    "scrolled": false
   },
   "outputs": [],
   "source": [
    "local_map = Map(tiles='Stamen Terrain', location=chatta_center, zoom_start=8)\n",
    "TileLayer(tiles=local_tms_server.url_pattern, attr='GeoPySpark Tiles').add_to(local_map)\n",
    "GeoJson('/tmp/mask.json', name='Chattanooga').add_to(local_map)\n",
    "local_map"
   ]
  },
  {
   "cell_type": "code",
   "execution_count": null,
   "metadata": {},
   "outputs": [],
   "source": [
    "layers = [gps.query(local_catalog_uri, local_layer_name, x) for x in range(0, 11)]"
   ]
  },
  {
   "cell_type": "code",
   "execution_count": null,
   "metadata": {},
   "outputs": [],
   "source": [
    "read_in_pyramid = gps.Pyramid(layers)"
   ]
  },
  {
   "cell_type": "code",
   "execution_count": null,
   "metadata": {},
   "outputs": [],
   "source": [
    "# This cannot display as well\n",
    "server = gps.TMS.build(read_in_pyramid, reclassified_cmap)\n",
    "server.bind('0.0.0.0')"
   ]
  },
  {
   "cell_type": "code",
   "execution_count": null,
   "metadata": {},
   "outputs": [],
   "source": [
    "rdd_map = Map(tiles='Stamen Terrain', location=chatta_center, zoom_start=8)\n",
    "TileLayer(tiles=server.url_pattern, attr='GeoPySpark Tiles').add_to(rdd_map)\n",
    "GeoJson('/tmp/mask.json', name='Chattanooga').add_to(rdd_map)\n",
    "rdd_map"
   ]
  }
 ],
 "metadata": {
  "kernelspec": {
   "display_name": "GeoPySpark",
   "language": "python",
   "name": "gps"
  },
  "language_info": {
   "codemirror_mode": {
    "name": "ipython",
    "version": 3
   },
   "file_extension": ".py",
   "mimetype": "text/x-python",
   "name": "python",
   "nbconvert_exporter": "python",
   "pygments_lexer": "ipython3",
   "version": "3.4.6"
  }
 },
 "nbformat": 4,
 "nbformat_minor": 2
}
