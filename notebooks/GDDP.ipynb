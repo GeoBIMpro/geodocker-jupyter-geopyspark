{
 "cells": [
  {
   "cell_type": "code",
   "execution_count": null,
   "metadata": {
    "collapsed": true
   },
   "outputs": [],
   "source": [
    "from pyspark import SparkContext\n",
    "from geopyspark import geopyspark_conf\n",
    "from geopyspark.geotrellis.constants import LayerType, LayoutScheme\n",
    "from geopyspark.geotrellis.catalog import read, read_value, query, write\n",
    "from geopyspark.geotrellis import Extent\n",
    "from geopyspark.netcdf.datasets import Gddp\n",
    "from shapely.geometry import shape"
   ]
  },
  {
   "cell_type": "code",
   "execution_count": null,
   "metadata": {
    "collapsed": true
   },
   "outputs": [],
   "source": [
    "sc = SparkContext(conf=geopyspark_conf(appName=\"Crenshaw Boulevard\"))"
   ]
  },
  {
   "cell_type": "code",
   "execution_count": null,
   "metadata": {
    "collapsed": true
   },
   "outputs": [],
   "source": [
    "uri = \"/tmp/tasmin_day_BCSD_rcp85_r1i1p1_inmcm4_2099.nc\""
   ]
  },
  {
   "cell_type": "code",
   "execution_count": null,
   "metadata": {},
   "outputs": [],
   "source": [
    "!curl 'https://raw.githubusercontent.com/jamesmcclain/SlausonAvenue/master/geojson/CA.geo.json' -o /tmp/CA.geo.json"
   ]
  },
  {
   "cell_type": "code",
   "execution_count": null,
   "metadata": {
    "collapsed": true
   },
   "outputs": [],
   "source": [
    "import json\n",
    "import matplotlib.pyplot as plt\n",
    "import numpy as np\n",
    "import scipy.ndimage\n",
    "\n",
    "%matplotlib inline"
   ]
  },
  {
   "cell_type": "code",
   "execution_count": null,
   "metadata": {},
   "outputs": [],
   "source": [
    "geojson = json.loads(open(\"/tmp/CA.geo.json\").read())\n",
    "ca = shape(geojson['features'][0]['geometry'])\n",
    "ca"
   ]
  },
  {
   "cell_type": "code",
   "execution_count": null,
   "metadata": {},
   "outputs": [],
   "source": [
    "snippet = Gddp.raster(uri, ca.bounds, 7, sc)"
   ]
  },
  {
   "cell_type": "code",
   "execution_count": null,
   "metadata": {},
   "outputs": [],
   "source": [
    "plt.imshow(snippet)"
   ]
  },
  {
   "cell_type": "code",
   "execution_count": null,
   "metadata": {},
   "outputs": [],
   "source": [
    "M.set_center(-118.225, 33.897, 10)"
   ]
  },
  {
   "cell_type": "code",
   "execution_count": null,
   "metadata": {
    "collapsed": true
   },
   "outputs": [],
   "source": [
    "days = range(0, 365)"
   ]
  },
  {
   "cell_type": "code",
   "execution_count": null,
   "metadata": {
    "collapsed": true
   },
   "outputs": [],
   "source": [
    "raster_rdd = Gddp.rdd_of_rasters(uri, ca.bounds, days, 0, sc)"
   ]
  },
  {
   "cell_type": "code",
   "execution_count": null,
   "metadata": {
    "collapsed": true
   },
   "outputs": [],
   "source": [
    "masked_rdd = raster_rdd.mask(ca)"
   ]
  },
  {
   "cell_type": "code",
   "execution_count": null,
   "metadata": {
    "collapsed": true
   },
   "outputs": [],
   "source": [
    "cpt = list(Gddp.samples(uri, (-118.225, 33.897), range(0,365), sc).collect())"
   ]
  },
  {
   "cell_type": "code",
   "execution_count": null,
   "metadata": {},
   "outputs": [],
   "source": [
    "plt.plot(days, cpt, label=\"Point\")\n",
    "plt.legend(loc='best')"
   ]
  },
  {
   "cell_type": "markdown",
   "metadata": {},
   "source": [
    "# Build GeoTiff from NumPy Array #"
   ]
  },
  {
   "cell_type": "code",
   "execution_count": null,
   "metadata": {
    "collapsed": true
   },
   "outputs": [],
   "source": [
    "import gdal"
   ]
  },
  {
   "cell_type": "code",
   "execution_count": null,
   "metadata": {
    "collapsed": true
   },
   "outputs": [],
   "source": [
    "snippet = scipy.ndimage.zoom(Gddp.raster(uri, ca.bounds, 33, sc), 128, order=3)\n",
    "(rows, columns) = snippet.shape"
   ]
  },
  {
   "cell_type": "code",
   "execution_count": null,
   "metadata": {
    "collapsed": true
   },
   "outputs": [],
   "source": [
    "wkt = \"\"\"GEOGCS[\\\"WGS 84\\\",\n",
    "    DATUM[\\\"WGS_1984\\\",\n",
    "        SPHEROID[\\\"WGS 84\\\",6378137,298.257223563,\n",
    "            AUTHORITY[\\\"EPSG\\\",\\\"7030\\\"]],\n",
    "        AUTHORITY[\\\"EPSG\",\\\"6326\\\"]],\n",
    "    PRIMEM[\\\"Greenwich\\\",0],\n",
    "    UNIT[\\\"degree\\\",0.0174532925199433],\n",
    "    AUTHORITY[\\\"EPSG\",\\\"4326\\\"]]\"\"\""
   ]
  },
  {
   "cell_type": "markdown",
   "metadata": {},
   "source": [
    "## Build Transform ##\n",
    "\n",
    "http://www.gdal.org/gdal_tutorial.html\n",
    "\n",
    "```\n",
    "adfGeoTransform[0] /* top left x */\n",
    "adfGeoTransform[1] /* w-e pixel resolution */\n",
    "adfGeoTransform[2] /* 0 */\n",
    "adfGeoTransform[3] /* top left y */\n",
    "adfGeoTransform[4] /* 0 */\n",
    "adfGeoTransform[5] /* n-s pixel resolution (negative value) */\n",
    "```"
   ]
  },
  {
   "cell_type": "code",
   "execution_count": null,
   "metadata": {},
   "outputs": [],
   "source": [
    "(xmin, ymin, xmax, ymax) = ca.bounds\n",
    "transform = (xmin, (xmax - xmin)/columns, 0, ymax, 0, (ymin - ymax)/rows)\n",
    "transform"
   ]
  },
  {
   "cell_type": "markdown",
   "metadata": {},
   "source": [
    "## Dump To GeoTiff ##\n",
    "\n",
    "https://gis.stackexchange.com/questions/58517/python-gdal-save-array-as-raster-with-projection-from-other-file"
   ]
  },
  {
   "cell_type": "code",
   "execution_count": null,
   "metadata": {
    "collapsed": true
   },
   "outputs": [],
   "source": [
    "driver = gdal.GetDriverByName('GTiff')\n",
    "dataset = driver.Create(\"/tmp/moop.tif\", columns, rows, 1, gdal.GDT_Float32)\n",
    "dataset.SetGeoTransform(transform)\n",
    "dataset.SetProjection(wkt)\n",
    "dataset.GetRasterBand(1).WriteArray(snippet)\n",
    "dataset.GetRasterBand(1).SetNoDataValue(-1.0)\n",
    "dataset.FlushCache()"
   ]
  },
  {
   "cell_type": "markdown",
   "metadata": {},
   "source": [
    "## Display ##"
   ]
  },
  {
   "cell_type": "code",
   "execution_count": null,
   "metadata": {
    "collapsed": true
   },
   "outputs": [],
   "source": [
    "from geonotebook.wrappers.raster import TMSRasterData\n",
    "\n",
    "from geopyspark.geotrellis.geotiff import get\n",
    "from geopyspark.geotrellis.tms import *\n",
    "from geopyspark.geotrellis.color import ColorMap\n",
    "from geopyspark.geotrellis.color import ColorMap, get_breaks"
   ]
  },
  {
   "cell_type": "markdown",
   "metadata": {},
   "source": [
    "Trouble with reproject, use `gdalwarp` to reproject to WebMercator."
   ]
  },
  {
   "cell_type": "code",
   "execution_count": null,
   "metadata": {
    "collapsed": true
   },
   "outputs": [],
   "source": [
    "!rm -f /tmp/moop2.tif"
   ]
  },
  {
   "cell_type": "code",
   "execution_count": null,
   "metadata": {},
   "outputs": [],
   "source": [
    "!~/local/gdal/bin/gdalwarp -t_srs 'EPSG:3857' /tmp/moop.tif /tmp/moop2.tif"
   ]
  },
  {
   "cell_type": "code",
   "execution_count": null,
   "metadata": {
    "collapsed": true
   },
   "outputs": [],
   "source": [
    "rdd = get(sc, LayerType.SPATIAL, \"/tmp/moop2.tif\", max_tile_size=512, num_partitions=32)"
   ]
  },
  {
   "cell_type": "code",
   "execution_count": null,
   "metadata": {
    "collapsed": true
   },
   "outputs": [],
   "source": [
    "metadata = rdd.collect_metadata(tile_size=512)"
   ]
  },
  {
   "cell_type": "code",
   "execution_count": null,
   "metadata": {
    "collapsed": true
   },
   "outputs": [],
   "source": [
    "laid_out = rdd.tile_to_layout(metadata)"
   ]
  },
  {
   "cell_type": "code",
   "execution_count": null,
   "metadata": {
    "collapsed": true
   },
   "outputs": [],
   "source": [
    "reprojected = laid_out.reproject(\"EPSG:3857\", scheme=LayoutScheme.ZOOM)"
   ]
  },
  {
   "cell_type": "code",
   "execution_count": null,
   "metadata": {},
   "outputs": [],
   "source": [
    "from functools import partial\n",
    "import pyproj\n",
    "from shapely.geometry import shape\n",
    "from shapely.ops import transform\n",
    "\n",
    "project = partial(\n",
    "    pyproj.transform,\n",
    "    pyproj.Proj(init='epsg:4326'),\n",
    "    pyproj.Proj(init='epsg:3857'))\n",
    "\n",
    "ca2 = transform(project, ca)\n",
    "ca2"
   ]
  },
  {
   "cell_type": "code",
   "execution_count": null,
   "metadata": {
    "collapsed": true
   },
   "outputs": [],
   "source": [
    "target = reprojected.mask(ca2)"
   ]
  },
  {
   "cell_type": "code",
   "execution_count": null,
   "metadata": {
    "collapsed": true
   },
   "outputs": [],
   "source": [
    "pyramid = target.pyramid(1, target.zoom_level)"
   ]
  },
  {
   "cell_type": "code",
   "execution_count": null,
   "metadata": {
    "collapsed": true
   },
   "outputs": [],
   "source": [
    "colormap = ColorMap.from_histogram(pysc=sc, histogram=target.get_histogram(), color_list=get_breaks(sc, 'Viridis', 256))"
   ]
  },
  {
   "cell_type": "code",
   "execution_count": null,
   "metadata": {
    "collapsed": true
   },
   "outputs": [],
   "source": [
    "data = rdd_tms_server(sc, pyramid, colormap)"
   ]
  },
  {
   "cell_type": "code",
   "execution_count": null,
   "metadata": {},
   "outputs": [],
   "source": [
    "M.add_layer(TMSRasterData(data))"
   ]
  },
  {
   "cell_type": "code",
   "execution_count": null,
   "metadata": {},
   "outputs": [],
   "source": [
    "M.remove_layer(M.layers[0])"
   ]
  },
  {
   "cell_type": "code",
   "execution_count": null,
   "metadata": {
    "collapsed": true
   },
   "outputs": [],
   "source": []
  }
 ],
 "metadata": {
  "kernelspec": {
   "display_name": "GeoNotebook + GeoPySpark",
   "language": "python",
   "name": "geonotebook3"
  },
  "language_info": {
   "codemirror_mode": {
    "name": "ipython",
    "version": 3
   },
   "file_extension": ".py",
   "mimetype": "text/x-python",
   "name": "python",
   "nbconvert_exporter": "python",
   "pygments_lexer": "ipython3",
   "version": "3.4.5"
  }
 },
 "nbformat": 4,
 "nbformat_minor": 2
}
