{
 "cells": [
  {
   "cell_type": "markdown",
   "metadata": {},
   "source": [
    "# Finding the Optimal Location for a New Park\n",
    "\n",
    "This example notebook will show how to find the next potential location for a new park in San Fransisco. To accomplish this, three factors will be taken into consideration when deciding on a possible spot: existing parks, schools, and Bay Area Regional Transit (BART) stops. By calculating Euclidean Distance for these three factors and then weighing them together, we will be able to produce a visual representation of where is and is not a good location for a new park.\n",
    "\n",
    "## Importing the Libraries"
   ]
  },
  {
   "cell_type": "code",
   "execution_count": null,
   "metadata": {},
   "outputs": [],
   "source": [
    "import geopyspark as gps\n",
    "import fiona\n",
    "\n",
    "from pyspark import SparkContext, StorageLevel\n",
    "from shapely.geometry import MultiPoint, MultiPolygon, shape\n",
    "\n",
    "import folium"
   ]
  },
  {
   "cell_type": "markdown",
   "metadata": {},
   "source": [
    "## Setup the SparkContext"
   ]
  },
  {
   "cell_type": "code",
   "execution_count": null,
   "metadata": {},
   "outputs": [],
   "source": [
    "conf = gps.geopyspark_conf(appName=\"park-siting\", master=\"local[*]\")\n",
    "sc = SparkContext.getOrCreate(conf=conf)"
   ]
  },
  {
   "cell_type": "markdown",
   "metadata": {},
   "source": [
    "## Set map display parameters"
   ]
  },
  {
   "cell_type": "code",
   "execution_count": null,
   "metadata": {},
   "outputs": [],
   "source": [
    "center = [37.8, -122.2]\n",
    "zoom_start = 9.5"
   ]
  },
  {
   "cell_type": "markdown",
   "metadata": {},
   "source": [
    "## Download the Geometries as GeoJsons"
   ]
  },
  {
   "cell_type": "code",
   "execution_count": null,
   "metadata": {},
   "outputs": [],
   "source": [
    "!curl -o /tmp/bart.geojson https://s3.amazonaws.com/geopyspark-demo/bayarea/bart.geojson\n",
    "!curl -o /tmp/school.geojson https://s3.amazonaws.com/geopyspark-demo/bayarea/school.geojson\n",
    "!curl -o /tmp/parks.geojson https://s3.amazonaws.com/geopyspark-demo/bayarea/parks.geojson"
   ]
  },
  {
   "cell_type": "markdown",
   "metadata": {},
   "source": [
    "## Read in the GeoJsons as Shapely Geometries"
   ]
  },
  {
   "cell_type": "code",
   "execution_count": null,
   "metadata": {},
   "outputs": [],
   "source": [
    "with fiona.open(\"/tmp/bart.geojson\") as source:\n",
    "    bart_crs = source.crs['init']\n",
    "    bart = MultiPoint([shape(f['geometry']) for f in source])\n",
    "\n",
    "with fiona.open(\"/tmp/school.geojson\") as source:\n",
    "    schools_crs = source.crs['init']\n",
    "    schools = MultiPoint([shape(f['geometry']) for f in source])\n",
    "\n",
    "with fiona.open(\"/tmp/parks.geojson\") as source:\n",
    "    parks_crs = source.crs['init']\n",
    "    parks = MultiPolygon([shape(f['geometry']) for f in source])"
   ]
  },
  {
   "cell_type": "markdown",
   "metadata": {},
   "source": [
    "## Calculate Euclidean Distance for Each Geometry\n",
    "\n",
    "Three new `TiledRasterLayer`s will be produced from the Euclidean Distance calculations for each geometry. All resulting layers will have a `zoom_level` of 12."
   ]
  },
  {
   "cell_type": "code",
   "execution_count": null,
   "metadata": {},
   "outputs": [],
   "source": [
    "bart_layer = gps.euclidean_distance(geometry=bart,\n",
    "                                    source_crs=bart_crs,\n",
    "                                    zoom=12)\n",
    "\n",
    "schools_layer = gps.euclidean_distance(geometry=schools,\n",
    "                                       source_crs=schools_crs,\n",
    "                                       zoom=12)\n",
    "\n",
    "parks_layer = gps.euclidean_distance(geometry=parks,\n",
    "                                     source_crs=parks_crs,\n",
    "                                     zoom=12)\n",
    "\n",
    "# Persists each layer to memory and disk\n",
    "bart_layer.persist(StorageLevel.MEMORY_AND_DISK)\n",
    "schools_layer.persist(StorageLevel.MEMORY_AND_DISK)\n",
    "parks_layer.persist(StorageLevel.MEMORY_AND_DISK)"
   ]
  },
  {
   "cell_type": "markdown",
   "metadata": {},
   "source": [
    "## Weighing the Layers Together"
   ]
  },
  {
   "cell_type": "code",
   "execution_count": null,
   "metadata": {},
   "outputs": [],
   "source": [
    "weighted_layer = -1 * bart_layer - schools_layer + 3 * parks_layer\n",
    "\n",
    "# Persists the weighted layer to memory and disk\n",
    "weighted_layer.persist(StorageLevel.MEMORY_AND_DISK)"
   ]
  },
  {
   "cell_type": "markdown",
   "metadata": {},
   "source": [
    "## Reprojecting, Pyramiding, and Calculating the Histogram"
   ]
  },
  {
   "cell_type": "code",
   "execution_count": null,
   "metadata": {},
   "outputs": [],
   "source": [
    "# The following code may take awhile to complete\n",
    "reprojected = weighted_layer.tile_to_layout(layout=gps.GlobalLayout(),\n",
    "                                            target_crs=\"EPSG:3857\")\n",
    "pyramid = reprojected.pyramid(resample_method=gps.ResampleMethod.AVERAGE)\n",
    "histogram = pyramid.get_histogram()"
   ]
  },
  {
   "cell_type": "markdown",
   "metadata": {},
   "source": [
    "## Creating the ColorMap\n",
    "\n",
    "The below code creates a `ColorMap` instance using the `Histogram` from `pyramid` for its `breaks`. For the color, the `matplotlib` color palette, `viridus` will be used."
   ]
  },
  {
   "cell_type": "code",
   "execution_count": null,
   "metadata": {},
   "outputs": [],
   "source": [
    "color_map = gps.ColorMap.build(breaks=histogram,\n",
    "                               colors='viridis')"
   ]
  },
  {
   "cell_type": "markdown",
   "metadata": {},
   "source": [
    "## Running the Server"
   ]
  },
  {
   "cell_type": "code",
   "execution_count": null,
   "metadata": {},
   "outputs": [],
   "source": [
    "tms = gps.TMS.build(source=pyramid,\n",
    "                    display=color_map)\n",
    "\n",
    "tms.bind('0.0.0.0')"
   ]
  },
  {
   "cell_type": "code",
   "execution_count": null,
   "metadata": {},
   "outputs": [],
   "source": [
    "m = folium.Map(tiles='OpenStreetMap', location=center, zoom_start=zoom_start)\n",
    "folium.TileLayer(tiles=tms.url_pattern, overlay=True, attr='GeoPySpark tiles').add_to(m)\n",
    "folium.GeoJson(data='/tmp/bart.geojson', name='BART stops').add_to(m)\n",
    "folium.GeoJson(data='/tmp/parks.geojson', name='Parks').add_to(m)\n",
    "folium.LayerControl().add_to(m)\n",
    "m"
   ]
  },
  {
   "cell_type": "markdown",
   "metadata": {},
   "source": [
    "## Cleaning up"
   ]
  },
  {
   "cell_type": "code",
   "execution_count": null,
   "metadata": {},
   "outputs": [],
   "source": [
    "tms.unbind()"
   ]
  }
 ],
 "metadata": {
  "kernelspec": {
   "display_name": "GeoPySpark",
   "language": "python",
   "name": "gps"
  },
  "language_info": {
   "codemirror_mode": {
    "name": "ipython",
    "version": 3
   },
   "file_extension": ".py",
   "mimetype": "text/x-python",
   "name": "python",
   "nbconvert_exporter": "python",
   "pygments_lexer": "ipython3",
   "version": "3.4.6"
  }
 },
 "nbformat": 4,
 "nbformat_minor": 2
}
