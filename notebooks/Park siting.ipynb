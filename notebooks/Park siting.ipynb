{
 "cells": [
  {
   "cell_type": "code",
   "execution_count": null,
   "metadata": {
    "collapsed": true
   },
   "outputs": [],
   "source": [
    "from geopyspark.geotrellis.constants import LayerType, LayoutScheme, ResampleMethod, ColorRamp\n",
    "from geopyspark.geotrellis.layer import TiledRasterLayer\n",
    "from geopyspark.geotrellis.geotiff import get\n",
    "from geonotebook.wrappers import VectorData"
   ]
  },
  {
   "cell_type": "code",
   "execution_count": null,
   "metadata": {
    "collapsed": true
   },
   "outputs": [],
   "source": [
    "import gdal"
   ]
  },
  {
   "cell_type": "code",
   "execution_count": null,
   "metadata": {
    "collapsed": true
   },
   "outputs": [],
   "source": [
    "from pyspark import SparkContext\n",
    "from geopyspark import geopyspark_conf\n",
    "\n",
    "sc = SparkContext(conf=geopyspark_conf(appName=\"testing\"))"
   ]
  },
  {
   "cell_type": "code",
   "execution_count": null,
   "metadata": {},
   "outputs": [],
   "source": [
    "M.set_center(-122.1, 37.75, 10)"
   ]
  },
  {
   "cell_type": "code",
   "execution_count": null,
   "metadata": {
    "collapsed": true
   },
   "outputs": [],
   "source": [
    "import fiona\n",
    "from shapely.geometry import *"
   ]
  },
  {
   "cell_type": "code",
   "execution_count": null,
   "metadata": {},
   "outputs": [],
   "source": [
    "!curl -o /tmp/bart.geojson https://s3.amazonaws.com/geopyspark-demo/bayarea/bart.geojson\n",
    "!curl -o /tmp/school.geojson https://s3.amazonaws.com/geopyspark-demo/bayarea/school.geojson\n",
    "!curl -o /tmp/parks.geojson https://s3.amazonaws.com/geopyspark-demo/bayarea/parks.geojson"
   ]
  },
  {
   "cell_type": "code",
   "execution_count": null,
   "metadata": {
    "collapsed": true
   },
   "outputs": [],
   "source": [
    "with fiona.open(\"/tmp/bart.geojson\") as source:\n",
    "    bart_crs = source.crs['init']\n",
    "    bart = MultiPoint([shape(f['geometry']) for f in source])\n",
    "\n",
    "with fiona.open(\"/tmp/school.geojson\") as source:\n",
    "    schools_crs = source.crs['init']\n",
    "    schools = MultiPoint([shape(f['geometry']) for f in source])\n",
    "\n",
    "with fiona.open(\"/tmp/parks.geojson\") as source:\n",
    "    parks_crs = source.crs['init']\n",
    "    parks = MultiPolygon([shape(f['geometry']) for f in source])"
   ]
  },
  {
   "cell_type": "code",
   "execution_count": null,
   "metadata": {
    "collapsed": true
   },
   "outputs": [],
   "source": [
    "from geopyspark.geotrellis.euclidean_distance import euclidean_distance\n",
    "bart_layer = euclidean_distance(sc, bart, bart_crs, 12)\n",
    "schools_layer = euclidean_distance(sc, schools, schools_crs, 12)\n",
    "parks_layer = euclidean_distance(sc, parks, parks_crs, 12)"
   ]
  },
  {
   "cell_type": "code",
   "execution_count": null,
   "metadata": {
    "collapsed": true
   },
   "outputs": [],
   "source": [
    "from pyspark.storagelevel import StorageLevel"
   ]
  },
  {
   "cell_type": "code",
   "execution_count": null,
   "metadata": {},
   "outputs": [],
   "source": [
    "bart_layer.persist(StorageLevel.MEMORY_AND_DISK)\n",
    "schools_layer.persist(StorageLevel.MEMORY_AND_DISK)\n",
    "parks_layer.persist(StorageLevel.MEMORY_AND_DISK)"
   ]
  },
  {
   "cell_type": "code",
   "execution_count": null,
   "metadata": {
    "collapsed": true
   },
   "outputs": [],
   "source": [
    "weighted_layer = -1 * bart_layer - schools_layer + 3 * parks_layer"
   ]
  },
  {
   "cell_type": "code",
   "execution_count": null,
   "metadata": {},
   "outputs": [],
   "source": [
    "weighted_layer.persist(StorageLevel.MEMORY_AND_DISK)"
   ]
  },
  {
   "cell_type": "code",
   "execution_count": null,
   "metadata": {
    "collapsed": true
   },
   "outputs": [],
   "source": [
    "# The following operation takes about 90 seconds on a reasonably capable 4-core laptop\n",
    "reprojected = weighted_layer.reproject(\"EPSG:3857\", scheme=LayoutScheme.ZOOM)\n",
    "pyramid = reprojected.pyramid(1, 12, resample_method=ResampleMethod.NEAREST_NEIGHBOR)"
   ]
  },
  {
   "cell_type": "code",
   "execution_count": null,
   "metadata": {},
   "outputs": [],
   "source": [
    "histogram = pyramid.get_histogram()\n",
    "histogram"
   ]
  },
  {
   "cell_type": "code",
   "execution_count": null,
   "metadata": {
    "collapsed": true
   },
   "outputs": [],
   "source": [
    "from geopyspark.geotrellis.color import ColorMap\n",
    "color_map = ColorMap.build(pysc=sc, breaks=histogram, colors='viridis')"
   ]
  },
  {
   "cell_type": "code",
   "execution_count": null,
   "metadata": {
    "collapsed": true
   },
   "outputs": [],
   "source": [
    "from geopyspark.geotrellis.tms import TMSServer\n",
    "tms = TMSServer.rdd_tms_server(sc, pyramid, color_map)"
   ]
  },
  {
   "cell_type": "code",
   "execution_count": null,
   "metadata": {
    "collapsed": true
   },
   "outputs": [],
   "source": [
    "from geonotebook.wrappers import TMSRasterData"
   ]
  },
  {
   "cell_type": "code",
   "execution_count": null,
   "metadata": {
    "scrolled": true
   },
   "outputs": [],
   "source": [
    "M.add_layer(TMSRasterData(tms))\n",
    "M.add_layer(VectorData(\"/tmp/bart.geojson\"), name=\"BART stops\")\n",
    "M.add_layer(VectorData(\"/tmp/parks.geojson\"), name=\"Parks\")"
   ]
  },
  {
   "cell_type": "code",
   "execution_count": null,
   "metadata": {},
   "outputs": [],
   "source": [
    "M.layers"
   ]
  },
  {
   "cell_type": "code",
   "execution_count": null,
   "metadata": {},
   "outputs": [],
   "source": [
    "M.remove_layer(M.layers[2])\n",
    "M.remove_layer(M.layers[1])\n",
    "M.remove_layer(M.layers[0])"
   ]
  },
  {
   "cell_type": "code",
   "execution_count": null,
   "metadata": {
    "collapsed": true
   },
   "outputs": [],
   "source": []
  }
 ],
 "metadata": {
  "kernelspec": {
   "display_name": "GeoNotebook + GeoPySpark",
   "language": "python",
   "name": "geonotebook3"
  },
  "language_info": {
   "codemirror_mode": {
    "name": "ipython",
    "version": 3
   },
   "file_extension": ".py",
   "mimetype": "text/x-python",
   "name": "python",
   "nbconvert_exporter": "python",
   "pygments_lexer": "ipython3",
   "version": "3.4.5"
  }
 },
 "nbformat": 4,
 "nbformat_minor": 2
}
